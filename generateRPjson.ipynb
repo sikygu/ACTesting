{
 "cells": [
  {
   "cell_type": "code",
   "execution_count": 3,
   "metadata": {
    "collapsed": true,
    "is_executing": true
   },
   "outputs": [
    {
     "name": "stdout",
     "output_type": "stream",
     "text": [
      "loading annotations into memory...\n",
      "Done (t=4.32s)\n",
      "creating index...\n",
      "index created!\n",
      "loading annotations into memory...\n",
      "Done (t=0.27s)\n",
      "creating index...\n",
      "index created!\n"
     ]
    }
   ],
   "source": [
    "from pycocotools.coco import COCO\n",
    "import numpy as np\n",
    "import os\n",
    "cocopath = '/home/data/coco'\n",
    "annfile = os.path.join(cocopath, 'annotations/instances_val2014.json')\n",
    "capfile = os.path.join(cocopath, 'annotations/captions_val2014.json')\n",
    "coco_ann = COCO(annfile)\n",
    "coco_cap = COCO(capfile)\n",
    "img_ids = coco_ann.getImgIds()"
   ]
  },
  {
   "cell_type": "code",
   "execution_count": 5,
   "metadata": {
    "collapsed": false,
    "is_executing": true
   },
   "outputs": [],
   "source": [
    "import json\n",
    "def readfile(textpath):\n",
    "    with open(textpath, 'r') as f:\n",
    "        myList = json.load(f)\n",
    "    return myList\n",
    "\n",
    "def writefile(listdata, filepath):\n",
    "    with open(filepath, 'w') as f:\n",
    "        json.dump(listdata, f)\n",
    "    return 0"
   ]
  },
  {
   "cell_type": "code",
   "execution_count": 18,
   "metadata": {},
   "outputs": [],
   "source": [
    "from pycocotools.coco import COCO\n",
    "import random\n",
    "import json\n",
    "def build_dict(coco,jsonfilename):\n",
    "    data = readfile('/data1/gsq/ACTesting/test_data/' + jsonfilename)\n",
    "    all_captions = [ann['caption'] for ann in coco.anns.values()]\n",
    "\n",
    "    result = []\n",
    "    for item in data:\n",
    "        image_id = item['image_id']\n",
    "        newcap = item['caption']\n",
    "        ann_ids = coco.getAnnIds(imgIds=image_id)\n",
    "        anns = coco.loadAnns(ann_ids)\n",
    "        captions = [ann['caption'] for ann in anns]\n",
    "        mismatched_captions = random.sample([c for c in all_captions if c not in captions], 99)\n",
    "\n",
    "        result.append({\n",
    "            'image_id': image_id,\n",
    "            'caption': newcap,\n",
    "            'mismatched_captions': mismatched_captions\n",
    "        })\n",
    "        \n",
    "    writefile(result, '/data1/gsq/ACTesting/RP_config/'+ jsonfilename)\n",
    "\n",
    "    return result"
   ]
  },
  {
   "cell_type": "code",
   "execution_count": 19,
   "metadata": {},
   "outputs": [
    {
     "name": "stdout",
     "output_type": "stream",
     "text": [
      "loading annotations into memory...\n",
      "Done (t=0.06s)\n",
      "creating index...\n",
      "index created!\n",
      "new-captions_val2017_new finished\n",
      "A table with pies being made and a person standing near a wall with pots and pans hanging on the wall.\n",
      "EC_captions_val2017 finished\n",
      "A box with pies being made and a person standing near a wall with pots and pans hanging on the wall.\n",
      "ER-R_captions_val2017 finished\n",
      "A table with pies being made and a  standing near a wall with pots and pans hanging on the wall.\n",
      "ER-A_captions_val2017 finished\n",
      "A toilet walking on A table with pies being made and a person standing near a wall with pots and pans hanging on the wall.\n",
      "EC+ER-R_captions_val2017 finished\n",
      "A box with pies being made and a person standing near a wall with s and pans hanging on the wall.\n",
      "EC+ER-A_captions_val2017 finished\n",
      "A jacket holding A box with pies being made and a person standing near a wall with pots and pans hanging on the wall.\n",
      "letter_captions_val2017 finished\n",
      "A table with pies being made and a parson standing near a wall with pots and pans hanging on the wall.\n"
     ]
    }
   ],
   "source": [
    "dataDir = '/data1/data/coco'\n",
    "dataType = 'val2017'\n",
    "coco = COCO(f'{dataDir}/annotations/captions_{dataType}.json')\n",
    "files = ['new-captions_val2017_new', 'EC_captions_val2017', 'ER-R_captions_val2017', 'ER-A_captions_val2017','EC+ER-R_captions_val2017','EC+ER-A_captions_val2017','letter_captions_val2017']\n",
    "for item in files:\n",
    "    data = build_dict(coco, item+'.json')\n",
    "    print(item,'finished')"
   ]
  }
 ],
 "metadata": {
  "kernelspec": {
   "display_name": "sgg",
   "language": "python",
   "name": "python3"
  },
  "language_info": {
   "codemirror_mode": {
    "name": "ipython",
    "version": 3
   },
   "file_extension": ".py",
   "mimetype": "text/x-python",
   "name": "python",
   "nbconvert_exporter": "python",
   "pygments_lexer": "ipython3",
   "version": "3.7.16"
  }
 },
 "nbformat": 4,
 "nbformat_minor": 0
}
